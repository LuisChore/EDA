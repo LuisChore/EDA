{
  "nbformat": 4,
  "nbformat_minor": 0,
  "metadata": {
    "colab": {
      "name": "univariate_statistics.ipynb",
      "provenance": [],
      "authorship_tag": "ABX9TyOsykj1k56uB7wq3GwpuRIS"
    },
    "kernelspec": {
      "name": "python3",
      "display_name": "Python 3"
    },
    "language_info": {
      "name": "python"
    }
  },
  "cells": [
    {
      "cell_type": "markdown",
      "metadata": {
        "id": "rdLc9WYwBWNk"
      },
      "source": [
        "# Univariate Statistics \n",
        "\n",
        "Process of analyzing data sets to summarize their characteristics using a combination of statistical calculations and data visualization. Understand the relationship among the data including the shape and spread of the data and the validity to use it for predictive algorithms.\n",
        "\n",
        "\n",
        "**univariate** means \"one variable\" and it ignores any sort of relationhip with other variables. \n",
        "\n",
        "\n",
        "There are three types of univariate statistics that we are interested in for each variable\n",
        "\n",
        "* General Information  (data type, count of total values, number of unique variables)\n",
        "\n",
        "* Range and middle (min,max,mean,median,mode, quartiles)\n",
        "\n",
        "* Normality and spread (standard deviation, skewness, kurtosis)\n",
        "\n"
      ]
    },
    {
      "cell_type": "markdown",
      "metadata": {
        "id": "tN3xHFk9Lk9w"
      },
      "source": [
        "## Normality \n",
        "\n",
        "One of the primary purposes of univariate analysis is to measure the degree of \"normality\" in each feature's distribution. \n",
        "\n",
        "Many of the analysis depend on that our distribution data is a *normal distribution* (Gaussian). It's one of the few types of propability distributions that are stable and that can be expressed by analytical functions.\n",
        "\n",
        "The closer a variable's distribution represents a normal distribution, the more reliably it can be used in predictive data analytics \n",
        "\n",
        "\n"
      ]
    },
    {
      "cell_type": "markdown",
      "metadata": {
        "id": "PLN_H38xJaZF"
      },
      "source": [
        "## Example"
      ]
    },
    {
      "cell_type": "code",
      "metadata": {
        "colab": {
          "base_uri": "https://localhost:8080/",
          "height": 206
        },
        "id": "QyO4GanEIDa6",
        "outputId": "84d839d6-fb5d-4a42-f715-f771fb4f3c0e"
      },
      "source": [
        "# https://www.kaggle.com/mirichoi0218/insurance\n",
        "import pandas as pd \n",
        "df = pd.read_csv('http://www.ishelp.info/data/insurance.csv')\n",
        "df.head()"
      ],
      "execution_count": 1,
      "outputs": [
        {
          "output_type": "execute_result",
          "data": {
            "text/html": [
              "<div>\n",
              "<style scoped>\n",
              "    .dataframe tbody tr th:only-of-type {\n",
              "        vertical-align: middle;\n",
              "    }\n",
              "\n",
              "    .dataframe tbody tr th {\n",
              "        vertical-align: top;\n",
              "    }\n",
              "\n",
              "    .dataframe thead th {\n",
              "        text-align: right;\n",
              "    }\n",
              "</style>\n",
              "<table border=\"1\" class=\"dataframe\">\n",
              "  <thead>\n",
              "    <tr style=\"text-align: right;\">\n",
              "      <th></th>\n",
              "      <th>age</th>\n",
              "      <th>sex</th>\n",
              "      <th>bmi</th>\n",
              "      <th>children</th>\n",
              "      <th>smoker</th>\n",
              "      <th>region</th>\n",
              "      <th>charges</th>\n",
              "    </tr>\n",
              "  </thead>\n",
              "  <tbody>\n",
              "    <tr>\n",
              "      <th>0</th>\n",
              "      <td>19</td>\n",
              "      <td>female</td>\n",
              "      <td>27.900</td>\n",
              "      <td>0</td>\n",
              "      <td>yes</td>\n",
              "      <td>southwest</td>\n",
              "      <td>16884.92400</td>\n",
              "    </tr>\n",
              "    <tr>\n",
              "      <th>1</th>\n",
              "      <td>18</td>\n",
              "      <td>male</td>\n",
              "      <td>33.770</td>\n",
              "      <td>1</td>\n",
              "      <td>no</td>\n",
              "      <td>southeast</td>\n",
              "      <td>1725.55230</td>\n",
              "    </tr>\n",
              "    <tr>\n",
              "      <th>2</th>\n",
              "      <td>28</td>\n",
              "      <td>male</td>\n",
              "      <td>33.000</td>\n",
              "      <td>3</td>\n",
              "      <td>no</td>\n",
              "      <td>southeast</td>\n",
              "      <td>4449.46200</td>\n",
              "    </tr>\n",
              "    <tr>\n",
              "      <th>3</th>\n",
              "      <td>33</td>\n",
              "      <td>male</td>\n",
              "      <td>22.705</td>\n",
              "      <td>0</td>\n",
              "      <td>no</td>\n",
              "      <td>northwest</td>\n",
              "      <td>21984.47061</td>\n",
              "    </tr>\n",
              "    <tr>\n",
              "      <th>4</th>\n",
              "      <td>32</td>\n",
              "      <td>male</td>\n",
              "      <td>28.880</td>\n",
              "      <td>0</td>\n",
              "      <td>no</td>\n",
              "      <td>northwest</td>\n",
              "      <td>3866.85520</td>\n",
              "    </tr>\n",
              "  </tbody>\n",
              "</table>\n",
              "</div>"
            ],
            "text/plain": [
              "   age     sex     bmi  children smoker     region      charges\n",
              "0   19  female  27.900         0    yes  southwest  16884.92400\n",
              "1   18    male  33.770         1     no  southeast   1725.55230\n",
              "2   28    male  33.000         3     no  southeast   4449.46200\n",
              "3   33    male  22.705         0     no  northwest  21984.47061\n",
              "4   32    male  28.880         0     no  northwest   3866.85520"
            ]
          },
          "metadata": {},
          "execution_count": 1
        }
      ]
    },
    {
      "cell_type": "markdown",
      "metadata": {
        "id": "yWZrGZyaJTaF"
      },
      "source": [
        "We want to know how much the factors explain or relate to \"charges\"\n",
        "\n",
        "### Stat General Info"
      ]
    },
    {
      "cell_type": "code",
      "metadata": {
        "colab": {
          "base_uri": "https://localhost:8080/",
          "height": 300
        },
        "id": "7KhnXKjrOt2W",
        "outputId": "b062b715-ddda-41ba-fca5-d56b2eedc877"
      },
      "source": [
        "df.describe() # Stats Info for our numerical values "
      ],
      "execution_count": 2,
      "outputs": [
        {
          "output_type": "execute_result",
          "data": {
            "text/html": [
              "<div>\n",
              "<style scoped>\n",
              "    .dataframe tbody tr th:only-of-type {\n",
              "        vertical-align: middle;\n",
              "    }\n",
              "\n",
              "    .dataframe tbody tr th {\n",
              "        vertical-align: top;\n",
              "    }\n",
              "\n",
              "    .dataframe thead th {\n",
              "        text-align: right;\n",
              "    }\n",
              "</style>\n",
              "<table border=\"1\" class=\"dataframe\">\n",
              "  <thead>\n",
              "    <tr style=\"text-align: right;\">\n",
              "      <th></th>\n",
              "      <th>age</th>\n",
              "      <th>bmi</th>\n",
              "      <th>children</th>\n",
              "      <th>charges</th>\n",
              "    </tr>\n",
              "  </thead>\n",
              "  <tbody>\n",
              "    <tr>\n",
              "      <th>count</th>\n",
              "      <td>1338.000000</td>\n",
              "      <td>1338.000000</td>\n",
              "      <td>1338.000000</td>\n",
              "      <td>1338.000000</td>\n",
              "    </tr>\n",
              "    <tr>\n",
              "      <th>mean</th>\n",
              "      <td>39.207025</td>\n",
              "      <td>30.663397</td>\n",
              "      <td>1.094918</td>\n",
              "      <td>13270.422265</td>\n",
              "    </tr>\n",
              "    <tr>\n",
              "      <th>std</th>\n",
              "      <td>14.049960</td>\n",
              "      <td>6.098187</td>\n",
              "      <td>1.205493</td>\n",
              "      <td>12110.011237</td>\n",
              "    </tr>\n",
              "    <tr>\n",
              "      <th>min</th>\n",
              "      <td>18.000000</td>\n",
              "      <td>15.960000</td>\n",
              "      <td>0.000000</td>\n",
              "      <td>1121.873900</td>\n",
              "    </tr>\n",
              "    <tr>\n",
              "      <th>25%</th>\n",
              "      <td>27.000000</td>\n",
              "      <td>26.296250</td>\n",
              "      <td>0.000000</td>\n",
              "      <td>4740.287150</td>\n",
              "    </tr>\n",
              "    <tr>\n",
              "      <th>50%</th>\n",
              "      <td>39.000000</td>\n",
              "      <td>30.400000</td>\n",
              "      <td>1.000000</td>\n",
              "      <td>9382.033000</td>\n",
              "    </tr>\n",
              "    <tr>\n",
              "      <th>75%</th>\n",
              "      <td>51.000000</td>\n",
              "      <td>34.693750</td>\n",
              "      <td>2.000000</td>\n",
              "      <td>16639.912515</td>\n",
              "    </tr>\n",
              "    <tr>\n",
              "      <th>max</th>\n",
              "      <td>64.000000</td>\n",
              "      <td>53.130000</td>\n",
              "      <td>5.000000</td>\n",
              "      <td>63770.428010</td>\n",
              "    </tr>\n",
              "  </tbody>\n",
              "</table>\n",
              "</div>"
            ],
            "text/plain": [
              "               age          bmi     children       charges\n",
              "count  1338.000000  1338.000000  1338.000000   1338.000000\n",
              "mean     39.207025    30.663397     1.094918  13270.422265\n",
              "std      14.049960     6.098187     1.205493  12110.011237\n",
              "min      18.000000    15.960000     0.000000   1121.873900\n",
              "25%      27.000000    26.296250     0.000000   4740.287150\n",
              "50%      39.000000    30.400000     1.000000   9382.033000\n",
              "75%      51.000000    34.693750     2.000000  16639.912515\n",
              "max      64.000000    53.130000     5.000000  63770.428010"
            ]
          },
          "metadata": {},
          "execution_count": 2
        }
      ]
    },
    {
      "cell_type": "markdown",
      "metadata": {
        "id": "ZnTA1RguSjrU"
      },
      "source": [
        "#### Unique values "
      ]
    },
    {
      "cell_type": "code",
      "metadata": {
        "colab": {
          "base_uri": "https://localhost:8080/"
        },
        "id": "ZyEO9QAGRro1",
        "outputId": "8a0163fe-589c-48e8-f09c-12cb8bcbbb4f"
      },
      "source": [
        "\n",
        "for feature in df.columns.values:\n",
        "  print(f'{feature}: {df[feature].nunique()}')"
      ],
      "execution_count": 5,
      "outputs": [
        {
          "output_type": "stream",
          "name": "stdout",
          "text": [
            "age: 47\n",
            "sex: 2\n",
            "bmi: 548\n",
            "children: 6\n",
            "smoker: 2\n",
            "region: 4\n",
            "charges: 1337\n"
          ]
        }
      ]
    },
    {
      "cell_type": "markdown",
      "metadata": {
        "id": "jeb6-jmUTEW4"
      },
      "source": [
        "#### Data Types"
      ]
    },
    {
      "cell_type": "code",
      "metadata": {
        "colab": {
          "base_uri": "https://localhost:8080/"
        },
        "id": "W72R7U2MTHvl",
        "outputId": "d7569a1b-b926-4272-9c68-ae1dba14e97d"
      },
      "source": [
        "\n",
        "for feature in df.columns.values:\n",
        "  print(f'{feature}: {df[feature].dtype}')"
      ],
      "execution_count": 7,
      "outputs": [
        {
          "output_type": "stream",
          "name": "stdout",
          "text": [
            "age: int64\n",
            "sex: object\n",
            "bmi: float64\n",
            "children: int64\n",
            "smoker: object\n",
            "region: object\n",
            "charges: float64\n"
          ]
        }
      ]
    },
    {
      "cell_type": "markdown",
      "metadata": {
        "id": "DML9xX3yXLg_"
      },
      "source": [
        "#### Missing Data (null)"
      ]
    },
    {
      "cell_type": "code",
      "metadata": {
        "colab": {
          "base_uri": "https://localhost:8080/"
        },
        "id": "g61RxlshXPT6",
        "outputId": "2c878f2b-e384-47be-b368-a5803536f3c6"
      },
      "source": [
        "for feature in df.columns.values:\n",
        "  print(f'{feature}: {df[feature].isnull().sum()}')"
      ],
      "execution_count": 9,
      "outputs": [
        {
          "output_type": "stream",
          "name": "stdout",
          "text": [
            "age: 0\n",
            "sex: 0\n",
            "bmi: 0\n",
            "children: 0\n",
            "smoker: 0\n",
            "region: 0\n",
            "charges: 0\n"
          ]
        }
      ]
    },
    {
      "cell_type": "markdown",
      "metadata": {
        "id": "VmBLG2KLYcd_"
      },
      "source": [
        "## Boundaries and Middle"
      ]
    },
    {
      "cell_type": "markdown",
      "metadata": {
        "id": "t50n1R7cZvA3"
      },
      "source": [
        "### Quartiles\n",
        "Quartiles represent \"inner\" boundaries among \"quarters\" of the dataset."
      ]
    },
    {
      "cell_type": "code",
      "metadata": {
        "colab": {
          "base_uri": "https://localhost:8080/"
        },
        "id": "LNd5pABJa3g0",
        "outputId": "2cf2342d-ce5f-43a2-990b-0c33015c551a"
      },
      "source": [
        "#numpy example\n",
        "import numpy as np \n",
        "my_list = [1,2,3,4,5,6,7,8,9]\n",
        "print(np.quantile(my_list,0.25))\n",
        "print(np.quantile(my_list,0.50))\n",
        "print(np.quantile(my_list,0.75))"
      ],
      "execution_count": 12,
      "outputs": [
        {
          "output_type": "stream",
          "name": "stdout",
          "text": [
            "3.0\n",
            "5.0\n",
            "7.0\n"
          ]
        }
      ]
    },
    {
      "cell_type": "markdown",
      "metadata": {
        "id": "eO60hURRbpH3"
      },
      "source": [
        "### Example\n"
      ]
    },
    {
      "cell_type": "code",
      "metadata": {
        "colab": {
          "base_uri": "https://localhost:8080/"
        },
        "id": "j4XmA-QdbsIo",
        "outputId": "57915f6e-eb75-48d2-c76d-525d3d41ca11"
      },
      "source": [
        "import pandas as pd \n",
        "print(df.charges.count())\n",
        "print(df.charges.min())\n",
        "print(df.charges.max())\n",
        "print(df.charges.quantile(0.25))\n",
        "print(df.charges.quantile(0.50))\n",
        "print(df.charges.mean())\n",
        "print(df.charges.median())\n",
        "print(df.charges.mode().values)"
      ],
      "execution_count": 19,
      "outputs": [
        {
          "output_type": "stream",
          "name": "stdout",
          "text": [
            "1338\n",
            "1121.8739\n",
            "63770.42801\n",
            "4740.28715\n",
            "9382.033\n",
            "13270.422265141257\n",
            "9382.033\n",
            "[1639.5631]\n"
          ]
        }
      ]
    },
    {
      "cell_type": "markdown",
      "metadata": {
        "id": "g0_u1UwAeKYy"
      },
      "source": [
        "## Spread: Standard Deviation\n",
        "\n",
        "A standard deviation $σ$ tell us how spread out the data is from the mean\n",
        "\n",
        "It is not a measure of normality. It marks the ranges at which the dataset would represent a normal distribution\n",
        "\n",
        "* $σ = 1$ (68.2 %)\n",
        "* $σ = 2$ (95.4 %)\n",
        "* $σ = 3$ (99.8 %)\n",
        "\n",
        "\n",
        "\n",
        "\n",
        "---\n",
        "\n",
        "\n",
        "\n",
        "Formule adjusted for samples:\n",
        "\n",
        "\n",
        "$\\sigma = \\sqrt{ \\frac{1}{N-1}} \\sum_{i = 1}^N (x_i - \\bar{x})^2$"
      ]
    },
    {
      "cell_type": "markdown",
      "metadata": {
        "id": "LJS835nmm1jF"
      },
      "source": [
        "### Example"
      ]
    },
    {
      "cell_type": "code",
      "metadata": {
        "colab": {
          "base_uri": "https://localhost:8080/"
        },
        "id": "M2uwVQsEfp-F",
        "outputId": "a0ed5309-38d4-4b57-ecb2-16d41e8cdfa2"
      },
      "source": [
        "df.charges.std()"
      ],
      "execution_count": 20,
      "outputs": [
        {
          "output_type": "execute_result",
          "data": {
            "text/plain": [
              "12110.011236693994"
            ]
          },
          "metadata": {},
          "execution_count": 20
        }
      ]
    },
    {
      "cell_type": "code",
      "metadata": {
        "colab": {
          "base_uri": "https://localhost:8080/"
        },
        "id": "XsBFRL7ImoRm",
        "outputId": "a652dc91-90b4-4ebb-dbe5-9f5d0267c041"
      },
      "source": [
        "np.std(df.charges) #numpy by default assumes it is a population"
      ],
      "execution_count": 21,
      "outputs": [
        {
          "output_type": "execute_result",
          "data": {
            "text/plain": [
              "12105.484975561605"
            ]
          },
          "metadata": {},
          "execution_count": 21
        }
      ]
    },
    {
      "cell_type": "code",
      "metadata": {
        "colab": {
          "base_uri": "https://localhost:8080/"
        },
        "id": "Jcbr6A5hnKaJ",
        "outputId": "317d01e7-98f1-4a57-ab66-d7c59446198b"
      },
      "source": [
        "np.std(df.charges,ddof = 1)"
      ],
      "execution_count": 22,
      "outputs": [
        {
          "output_type": "execute_result",
          "data": {
            "text/plain": [
              "12110.011236693994"
            ]
          },
          "metadata": {},
          "execution_count": 22
        }
      ]
    },
    {
      "cell_type": "markdown",
      "metadata": {
        "id": "ayNFmx4QpNrA"
      },
      "source": [
        "## (Ab)Normality: Skew, Kurt\n",
        "\n",
        "* Skewness measures how much the bulk of the histogram data is skewed to the right or left of the x-axis\n",
        "\n",
        "     * Rule of thumb [-1,1] is ok\n",
        "     * There are math transformation to fix it \n",
        "\n",
        "* kurtosis measures how high or low the peak of the data is\n",
        "\n",
        "\n",
        "\n",
        "When we are working with samples and not the whole population, **a bias correction** needs to be made. By default **scipy** assumes population\n"
      ]
    },
    {
      "cell_type": "markdown",
      "metadata": {
        "id": "lSX7q4oVtRAI"
      },
      "source": [
        "### Example"
      ]
    },
    {
      "cell_type": "code",
      "metadata": {
        "colab": {
          "base_uri": "https://localhost:8080/"
        },
        "id": "AERQCMdCpWtD",
        "outputId": "9c7c89f1-8b8b-496c-c2eb-b3c9fd085a3f"
      },
      "source": [
        "from scipy.stats import kurtosis,skew\n",
        "print(skew(df.charges,bias = False)) # to assume sample\n",
        "print(kurtosis(df.charges,bias = False))"
      ],
      "execution_count": 24,
      "outputs": [
        {
          "output_type": "stream",
          "name": "stdout",
          "text": [
            "1.5158796580240383\n",
            "1.6062986532967916\n"
          ]
        }
      ]
    },
    {
      "cell_type": "code",
      "metadata": {
        "colab": {
          "base_uri": "https://localhost:8080/"
        },
        "id": "ElDgz-TctwQG",
        "outputId": "5f4843c0-ce5d-4302-bd88-d193c31fe26f"
      },
      "source": [
        "print(df.charges.skew())\n",
        "print(df.charges.kurt())"
      ],
      "execution_count": 25,
      "outputs": [
        {
          "output_type": "stream",
          "name": "stdout",
          "text": [
            "1.5158796580240388\n",
            "1.6062986532967907\n"
          ]
        }
      ]
    },
    {
      "cell_type": "code",
      "metadata": {
        "colab": {
          "base_uri": "https://localhost:8080/",
          "height": 345
        },
        "id": "I6A1q4ajvE8k",
        "outputId": "7393ceb9-9b96-4bc4-d33f-3ba5e28e85c1"
      },
      "source": [
        "import seaborn as sns\n",
        "sns.distplot(df.charges);"
      ],
      "execution_count": 29,
      "outputs": [
        {
          "output_type": "stream",
          "name": "stderr",
          "text": [
            "/usr/local/lib/python3.7/dist-packages/seaborn/distributions.py:2619: FutureWarning: `distplot` is a deprecated function and will be removed in a future version. Please adapt your code to use either `displot` (a figure-level function with similar flexibility) or `histplot` (an axes-level function for histograms).\n",
            "  warnings.warn(msg, FutureWarning)\n"
          ]
        },
        {
          "output_type": "display_data",
          "data": {
            "image/png": "[encoded data removed]",
            "text/plain": [
              "<Figure size 432x288 with 1 Axes>"
            ]
          },
          "metadata": {
            "needs_background": "light"
          }
        }
      ]
    }
  ]
}