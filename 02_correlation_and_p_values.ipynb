{
  "nbformat": 4,
  "nbformat_minor": 0,
  "metadata": {
    "colab": {
      "name": "02_correlation_and_p_values.ipynb",
      "provenance": [],
      "toc_visible": true,
      "authorship_tag": "ABX9TyMck2ISP8Rr3Wh7pGmxjtx4"
    },
    "kernelspec": {
      "name": "python3",
      "display_name": "Python 3"
    },
    "language_info": {
      "name": "python"
    }
  },
  "cells": [
    {
      "cell_type": "markdown",
      "metadata": {
        "id": "fdOaB0ueUQ7M"
      },
      "source": [
        "# Bivariate analysis\n",
        "\n",
        "Understand the relationship between pairs of variables\n",
        "\n",
        "\n",
        "\n"
      ]
    },
    {
      "cell_type": "markdown",
      "metadata": {
        "id": "gxzhVTRZH9Hc"
      },
      "source": [
        "\n",
        "## 01. Features and labels\n",
        "\n",
        "Bivariate analyses begins the process of inferring cause and effect relationships. We need to divide our data fields into those that represent *causes* and those that represent potentian *effect* measures.\n",
        "\n",
        "\n",
        "* **features**, causes, independent variable, data fields used to explain or predict the labels.\n",
        "* **labels**, effects, dependent variables, something that you want to predict or explain because it represents a valuable outcome of interest \n",
        "\n",
        "\n"
      ]
    },
    {
      "cell_type": "markdown",
      "metadata": {
        "id": "TODm7m4XIBM9"
      },
      "source": [
        "### 01.01 Example\n",
        "\n",
        "We want to explain the variable *charges* with all the other features"
      ]
    },
    {
      "cell_type": "code",
      "metadata": {
        "colab": {
          "base_uri": "https://localhost:8080/",
          "height": 206
        },
        "id": "0TM9HL7Oflcj",
        "outputId": "c835e9b1-9e43-4471-e489-ac2118d511ec"
      },
      "source": [
        "# https://www.kaggle.com/mirichoi0218/insurance\n",
        "import pandas as pd \n",
        "df = pd.read_csv('http://www.ishelp.info/data/insurance.csv')\n",
        "df.head()"
      ],
      "execution_count": 1,
      "outputs": [
        {
          "output_type": "execute_result",
          "data": {
            "text/html": [
              "\n",
              "  <div id=\"df-c2897fa9-a937-409e-b6bf-59e694287fc7\">\n",
              "    <div class=\"colab-df-container\">\n",
              "      <div>\n",
              "<style scoped>\n",
              "    .dataframe tbody tr th:only-of-type {\n",
              "        vertical-align: middle;\n",
              "    }\n",
              "\n",
              "    .dataframe tbody tr th {\n",
              "        vertical-align: top;\n",
              "    }\n",
              "\n",
              "    .dataframe thead th {\n",
              "        text-align: right;\n",
              "    }\n",
              "</style>\n",
              "<table border=\"1\" class=\"dataframe\">\n",
              "  <thead>\n",
              "    <tr style=\"text-align: right;\">\n",
              "      <th></th>\n",
              "      <th>age</th>\n",
              "      <th>sex</th>\n",
              "      <th>bmi</th>\n",
              "      <th>children</th>\n",
              "      <th>smoker</th>\n",
              "      <th>region</th>\n",
              "      <th>charges</th>\n",
              "    </tr>\n",
              "  </thead>\n",
              "  <tbody>\n",
              "    <tr>\n",
              "      <th>0</th>\n",
              "      <td>19</td>\n",
              "      <td>female</td>\n",
              "      <td>27.900</td>\n",
              "      <td>0</td>\n",
              "      <td>yes</td>\n",
              "      <td>southwest</td>\n",
              "      <td>16884.92400</td>\n",
              "    </tr>\n",
              "    <tr>\n",
              "      <th>1</th>\n",
              "      <td>18</td>\n",
              "      <td>male</td>\n",
              "      <td>33.770</td>\n",
              "      <td>1</td>\n",
              "      <td>no</td>\n",
              "      <td>southeast</td>\n",
              "      <td>1725.55230</td>\n",
              "    </tr>\n",
              "    <tr>\n",
              "      <th>2</th>\n",
              "      <td>28</td>\n",
              "      <td>male</td>\n",
              "      <td>33.000</td>\n",
              "      <td>3</td>\n",
              "      <td>no</td>\n",
              "      <td>southeast</td>\n",
              "      <td>4449.46200</td>\n",
              "    </tr>\n",
              "    <tr>\n",
              "      <th>3</th>\n",
              "      <td>33</td>\n",
              "      <td>male</td>\n",
              "      <td>22.705</td>\n",
              "      <td>0</td>\n",
              "      <td>no</td>\n",
              "      <td>northwest</td>\n",
              "      <td>21984.47061</td>\n",
              "    </tr>\n",
              "    <tr>\n",
              "      <th>4</th>\n",
              "      <td>32</td>\n",
              "      <td>male</td>\n",
              "      <td>28.880</td>\n",
              "      <td>0</td>\n",
              "      <td>no</td>\n",
              "      <td>northwest</td>\n",
              "      <td>3866.85520</td>\n",
              "    </tr>\n",
              "  </tbody>\n",
              "</table>\n",
              "</div>\n",
              "      <button class=\"colab-df-convert\" onclick=\"convertToInteractive('df-c2897fa9-a937-409e-b6bf-59e694287fc7')\"\n",
              "              title=\"Convert this dataframe to an interactive table.\"\n",
              "              style=\"display:none;\">\n",
              "        \n",
              "  <svg xmlns=\"http://www.w3.org/2000/svg\" height=\"24px\"viewBox=\"0 0 24 24\"\n",
              "       width=\"24px\">\n",
              "    <path d=\"M0 0h24v24H0V0z\" fill=\"none\"/>\n",
              "    <path d=\"M18.56 5.44l.94 2.06.94-2.06 2.06-.94-2.06-.94-.94-2.06-.94 2.06-2.06.94zm-11 1L8.5 8.5l.94-2.06 2.06-.94-2.06-.94L8.5 2.5l-.94 2.06-2.06.94zm10 10l.94 2.06.94-2.06 2.06-.94-2.06-.94-.94-2.06-.94 2.06-2.06.94z\"/><path d=\"M17.41 7.96l-1.37-1.37c-.4-.4-.92-.59-1.43-.59-.52 0-1.04.2-1.43.59L10.3 9.45l-7.72 7.72c-.78.78-.78 2.05 0 2.83L4 21.41c.39.39.9.59 1.41.59.51 0 1.02-.2 1.41-.59l7.78-7.78 2.81-2.81c.8-.78.8-2.07 0-2.86zM5.41 20L4 18.59l7.72-7.72 1.47 1.35L5.41 20z\"/>\n",
              "  </svg>\n",
              "      </button>\n",
              "      \n",
              "  <style>\n",
              "    .colab-df-container {\n",
              "      display:flex;\n",
              "      flex-wrap:wrap;\n",
              "      gap: 12px;\n",
              "    }\n",
              "\n",
              "    .colab-df-convert {\n",
              "      background-color: #E8F0FE;\n",
              "      border: none;\n",
              "      border-radius: 50%;\n",
              "      cursor: pointer;\n",
              "      display: none;\n",
              "      fill: #1967D2;\n",
              "      height: 32px;\n",
              "      padding: 0 0 0 0;\n",
              "      width: 32px;\n",
              "    }\n",
              "\n",
              "    .colab-df-convert:hover {\n",
              "      background-color: #E2EBFA;\n",
              "      box-shadow: 0px 1px 2px rgba(60, 64, 67, 0.3), 0px 1px 3px 1px rgba(60, 64, 67, 0.15);\n",
              "      fill: #174EA6;\n",
              "    }\n",
              "\n",
              "    [theme=dark] .colab-df-convert {\n",
              "      background-color: #3B4455;\n",
              "      fill: #D2E3FC;\n",
              "    }\n",
              "\n",
              "    [theme=dark] .colab-df-convert:hover {\n",
              "      background-color: #434B5C;\n",
              "      box-shadow: 0px 1px 3px 1px rgba(0, 0, 0, 0.15);\n",
              "      filter: drop-shadow(0px 1px 2px rgba(0, 0, 0, 0.3));\n",
              "      fill: #FFFFFF;\n",
              "    }\n",
              "  </style>\n",
              "\n",
              "      <script>\n",
              "        const buttonEl =\n",
              "          document.querySelector('#df-c2897fa9-a937-409e-b6bf-59e694287fc7 button.colab-df-convert');\n",
              "        buttonEl.style.display =\n",
              "          google.colab.kernel.accessAllowed ? 'block' : 'none';\n",
              "\n",
              "        async function convertToInteractive(key) {\n",
              "          const element = document.querySelector('#df-c2897fa9-a937-409e-b6bf-59e694287fc7');\n",
              "          const dataTable =\n",
              "            await google.colab.kernel.invokeFunction('convertToInteractive',\n",
              "                                                     [key], {});\n",
              "          if (!dataTable) return;\n",
              "\n",
              "          const docLinkHtml = 'Like what you see? Visit the ' +\n",
              "            '<a target=\"_blank\" href=https://colab.research.google.com/notebooks/data_table.ipynb>data table notebook</a>'\n",
              "            + ' to learn more about interactive tables.';\n",
              "          element.innerHTML = '';\n",
              "          dataTable['output_type'] = 'display_data';\n",
              "          await google.colab.output.renderOutput(dataTable, element);\n",
              "          const docLink = document.createElement('div');\n",
              "          docLink.innerHTML = docLinkHtml;\n",
              "          element.appendChild(docLink);\n",
              "        }\n",
              "      </script>\n",
              "    </div>\n",
              "  </div>\n",
              "  "
            ],
            "text/plain": [
              "   age     sex     bmi  children smoker     region      charges\n",
              "0   19  female  27.900         0    yes  southwest  16884.92400\n",
              "1   18    male  33.770         1     no  southeast   1725.55230\n",
              "2   28    male  33.000         3     no  southeast   4449.46200\n",
              "3   33    male  22.705         0     no  northwest  21984.47061\n",
              "4   32    male  28.880         0     no  northwest   3866.85520"
            ]
          },
          "metadata": {},
          "execution_count": 1
        }
      ]
    },
    {
      "cell_type": "markdown",
      "metadata": {
        "id": "cbtrI6KviFF6"
      },
      "source": [
        "## 02. Effect Size\n",
        "\n",
        "The relationship of a feature with the label is the effect size of that feature, or the amount of effect that each feature has on the label measured separately"
      ]
    },
    {
      "cell_type": "code",
      "metadata": {
        "id": "mNcMG2z_jXzv"
      },
      "source": [
        "label_data_types = ['numeric','numeric','categorical']\n",
        "feature_data_types = ['numeric','categorical','categorical']\n",
        "effect_size_stat = ['Pearson correlation','one-way ANOVA','Pearson chi-square']\n",
        "visualization = ['Scatterplot','Bar Chart','CrossTab']\n",
        "\n",
        "dict = {\n",
        "    'Label data type' : label_data_types,\n",
        "    'Feature data type': feature_data_types,\n",
        "    'Effect size stat': effect_size_stat,\n",
        "    'Visualization' : visualization\n",
        "}"
      ],
      "execution_count": 2,
      "outputs": []
    },
    {
      "cell_type": "code",
      "metadata": {
        "colab": {
          "base_uri": "https://localhost:8080/",
          "height": 143
        },
        "id": "QyA2xchmjyBP",
        "outputId": "c5d55101-82e6-418e-ba4f-58f5b5de0ced"
      },
      "source": [
        "df = pd.DataFrame(dict)\n",
        "df"
      ],
      "execution_count": 3,
      "outputs": [
        {
          "output_type": "execute_result",
          "data": {
            "text/html": [
              "\n",
              "  <div id=\"df-f131c918-69e3-4432-8960-eedd421bc384\">\n",
              "    <div class=\"colab-df-container\">\n",
              "      <div>\n",
              "<style scoped>\n",
              "    .dataframe tbody tr th:only-of-type {\n",
              "        vertical-align: middle;\n",
              "    }\n",
              "\n",
              "    .dataframe tbody tr th {\n",
              "        vertical-align: top;\n",
              "    }\n",
              "\n",
              "    .dataframe thead th {\n",
              "        text-align: right;\n",
              "    }\n",
              "</style>\n",
              "<table border=\"1\" class=\"dataframe\">\n",
              "  <thead>\n",
              "    <tr style=\"text-align: right;\">\n",
              "      <th></th>\n",
              "      <th>Label data type</th>\n",
              "      <th>Feature data type</th>\n",
              "      <th>Effect size stat</th>\n",
              "      <th>Visualization</th>\n",
              "    </tr>\n",
              "  </thead>\n",
              "  <tbody>\n",
              "    <tr>\n",
              "      <th>0</th>\n",
              "      <td>numeric</td>\n",
              "      <td>numeric</td>\n",
              "      <td>Pearson correlation</td>\n",
              "      <td>Scatterplot</td>\n",
              "    </tr>\n",
              "    <tr>\n",
              "      <th>1</th>\n",
              "      <td>numeric</td>\n",
              "      <td>categorical</td>\n",
              "      <td>one-way ANOVA</td>\n",
              "      <td>Bar Chart</td>\n",
              "    </tr>\n",
              "    <tr>\n",
              "      <th>2</th>\n",
              "      <td>categorical</td>\n",
              "      <td>categorical</td>\n",
              "      <td>Pearson chi-square</td>\n",
              "      <td>CrossTab</td>\n",
              "    </tr>\n",
              "  </tbody>\n",
              "</table>\n",
              "</div>\n",
              "      <button class=\"colab-df-convert\" onclick=\"convertToInteractive('df-f131c918-69e3-4432-8960-eedd421bc384')\"\n",
              "              title=\"Convert this dataframe to an interactive table.\"\n",
              "              style=\"display:none;\">\n",
              "        \n",
              "  <svg xmlns=\"http://www.w3.org/2000/svg\" height=\"24px\"viewBox=\"0 0 24 24\"\n",
              "       width=\"24px\">\n",
              "    <path d=\"M0 0h24v24H0V0z\" fill=\"none\"/>\n",
              "    <path d=\"M18.56 5.44l.94 2.06.94-2.06 2.06-.94-2.06-.94-.94-2.06-.94 2.06-2.06.94zm-11 1L8.5 8.5l.94-2.06 2.06-.94-2.06-.94L8.5 2.5l-.94 2.06-2.06.94zm10 10l.94 2.06.94-2.06 2.06-.94-2.06-.94-.94-2.06-.94 2.06-2.06.94z\"/><path d=\"M17.41 7.96l-1.37-1.37c-.4-.4-.92-.59-1.43-.59-.52 0-1.04.2-1.43.59L10.3 9.45l-7.72 7.72c-.78.78-.78 2.05 0 2.83L4 21.41c.39.39.9.59 1.41.59.51 0 1.02-.2 1.41-.59l7.78-7.78 2.81-2.81c.8-.78.8-2.07 0-2.86zM5.41 20L4 18.59l7.72-7.72 1.47 1.35L5.41 20z\"/>\n",
              "  </svg>\n",
              "      </button>\n",
              "      \n",
              "  <style>\n",
              "    .colab-df-container {\n",
              "      display:flex;\n",
              "      flex-wrap:wrap;\n",
              "      gap: 12px;\n",
              "    }\n",
              "\n",
              "    .colab-df-convert {\n",
              "      background-color: #E8F0FE;\n",
              "      border: none;\n",
              "      border-radius: 50%;\n",
              "      cursor: pointer;\n",
              "      display: none;\n",
              "      fill: #1967D2;\n",
              "      height: 32px;\n",
              "      padding: 0 0 0 0;\n",
              "      width: 32px;\n",
              "    }\n",
              "\n",
              "    .colab-df-convert:hover {\n",
              "      background-color: #E2EBFA;\n",
              "      box-shadow: 0px 1px 2px rgba(60, 64, 67, 0.3), 0px 1px 3px 1px rgba(60, 64, 67, 0.15);\n",
              "      fill: #174EA6;\n",
              "    }\n",
              "\n",
              "    [theme=dark] .colab-df-convert {\n",
              "      background-color: #3B4455;\n",
              "      fill: #D2E3FC;\n",
              "    }\n",
              "\n",
              "    [theme=dark] .colab-df-convert:hover {\n",
              "      background-color: #434B5C;\n",
              "      box-shadow: 0px 1px 3px 1px rgba(0, 0, 0, 0.15);\n",
              "      filter: drop-shadow(0px 1px 2px rgba(0, 0, 0, 0.3));\n",
              "      fill: #FFFFFF;\n",
              "    }\n",
              "  </style>\n",
              "\n",
              "      <script>\n",
              "        const buttonEl =\n",
              "          document.querySelector('#df-f131c918-69e3-4432-8960-eedd421bc384 button.colab-df-convert');\n",
              "        buttonEl.style.display =\n",
              "          google.colab.kernel.accessAllowed ? 'block' : 'none';\n",
              "\n",
              "        async function convertToInteractive(key) {\n",
              "          const element = document.querySelector('#df-f131c918-69e3-4432-8960-eedd421bc384');\n",
              "          const dataTable =\n",
              "            await google.colab.kernel.invokeFunction('convertToInteractive',\n",
              "                                                     [key], {});\n",
              "          if (!dataTable) return;\n",
              "\n",
              "          const docLinkHtml = 'Like what you see? Visit the ' +\n",
              "            '<a target=\"_blank\" href=https://colab.research.google.com/notebooks/data_table.ipynb>data table notebook</a>'\n",
              "            + ' to learn more about interactive tables.';\n",
              "          element.innerHTML = '';\n",
              "          dataTable['output_type'] = 'display_data';\n",
              "          await google.colab.output.renderOutput(dataTable, element);\n",
              "          const docLink = document.createElement('div');\n",
              "          docLink.innerHTML = docLinkHtml;\n",
              "          element.appendChild(docLink);\n",
              "        }\n",
              "      </script>\n",
              "    </div>\n",
              "  </div>\n",
              "  "
            ],
            "text/plain": [
              "  Label data type Feature data type     Effect size stat Visualization\n",
              "0         numeric           numeric  Pearson correlation   Scatterplot\n",
              "1         numeric       categorical        one-way ANOVA     Bar Chart\n",
              "2     categorical       categorical   Pearson chi-square      CrossTab"
            ]
          },
          "metadata": {},
          "execution_count": 3
        }
      ]
    },
    {
      "cell_type": "markdown",
      "metadata": {
        "id": "82ruVKFuB5yD"
      },
      "source": [
        "**Note**\n",
        "\n",
        "Having an effect does not imply that this is a causal effect, but we are going to imply as long as we have theorical reasons "
      ]
    },
    {
      "cell_type": "markdown",
      "metadata": {
        "id": "m8jyLDb5NMs9"
      },
      "source": [
        "### 02.01. Pearson Correlation\n",
        "\n",
        "Statistical measure of effect size that indicates how much two numeric variable influence each other, degree to which a pair of variables are **linearly** related. It assumes that the feature and the label we are comparing are both normal ditributed.\n",
        "\n",
        "\n",
        "The correlation coefficient ranges from -1 to 1. Negative correlations indicate that as one variable increases, the other variable decreases whereas positive indicate that as one variablle increases, the other increases as well.\n",
        "\n",
        "Scatterplots provide an easy way to interpret correlation coefficients.\n",
        "\n",
        "\n"
      ]
    },
    {
      "cell_type": "markdown",
      "source": [
        "#### 02.01.01. Sample Formula"
      ],
      "metadata": {
        "id": "xHmrU21wc_z8"
      }
    },
    {
      "cell_type": "markdown",
      "source": [
        "$r_{xy} = \\frac{\\sum_{i=1}^{N}(x_i - \\bar{x})(y_i - \\bar{y})}{\\sqrt{\\sum_{i=1}^{N}(x_i - \\bar{x})^2  \\sum_{i=1}^{N}(y_i - \\bar{y})^2}}$"
      ],
      "metadata": {
        "id": "qMi8sgKIdG4-"
      }
    },
    {
      "cell_type": "markdown",
      "source": [
        "#### 02.01.02. Cohen's standard"
      ],
      "metadata": {
        "id": "KyxkfFe1urOr"
      }
    },
    {
      "cell_type": "markdown",
      "source": [
        "* Small effect-size: .10 < r < .29\n",
        "* Medium effect-size: .30 < r < .49\n",
        "* Large effect-size: .50 < r "
      ],
      "metadata": {
        "id": "YXmjLgfuuvOd"
      }
    },
    {
      "cell_type": "markdown",
      "metadata": {
        "id": "BDnazRX1YDz-"
      },
      "source": [
        "#### 02.01.03. Assumptions\n",
        "\n",
        "**Assumptions for a valid correlation**, the degree to which these assumptions hold true determines the degree to which we can trust the *r* we calculate.\n",
        "\n",
        "- Continuous data\n",
        "- Linear relationship\n",
        "    - We can make transformations in our data to fix it\n",
        "- Homoskedastic relationship \n",
        "    - It refers to the consistency across all values of x and y (same variance across all values) \n",
        "    - There are ways to handle it for example techniques for correcting skewness"
      ]
    },
    {
      "cell_type": "markdown",
      "metadata": {
        "id": "WgEsA3iobpd9"
      },
      "source": [
        "The reason we make in the **univariate analysis** phase measures about skewness and kurtosis is to assess how much our data violates these assumpsions. Violations of any of these assumptions avobe are usually the result of the numeric variables not having normal distributions\n",
        "\n",
        "**Solution**\n",
        "- Select a statistic that does not depend on those assumptions\n",
        "- Adjust the scale of the data using mathematical transformation"
      ]
    },
    {
      "cell_type": "markdown",
      "source": [
        "#### 02.01.04. Other stats"
      ],
      "metadata": {
        "id": "CStg9cgK3X_2"
      }
    },
    {
      "cell_type": "markdown",
      "source": [
        "The non-parametric (a.k.a. distribution free) statistics does not depend on normal distribution methods of calculating a correlation coefficient (r).\n",
        "\n",
        "* Kendall (tau)\n",
        "* Spearman's (rho)\n",
        "\n"
      ],
      "metadata": {
        "id": "XHVhFn7X3bW6"
      }
    },
    {
      "cell_type": "markdown",
      "source": [
        "[Non-linear dependence article](https://bmcbioinformatics.biomedcentral.com/articles/10.1186/s12859-015-0697-7)"
      ],
      "metadata": {
        "id": "1GdHJlRc7lOU"
      }
    },
    {
      "cell_type": "markdown",
      "metadata": {
        "id": "Pjzp7MQTgUUB"
      },
      "source": [
        "## 03. P-values\n",
        "\n",
        "\n",
        "p-value is the probability that the estimated effect size is due to random \"chance\", the p-value found is the probability that random data could produce a similarly strong relationship, or stronger as the one found. p-value is a confidence value, that increase if the number of data increases *(more data, more confidence of the results found)*\n",
        "\n",
        "p-value is the probability that future data collections will have results at least as extreme as those observed in the test data given that we are assuming they don't have any relationship (Null Hypothesis) \n",
        "\n",
        "The genereally accepted threshold for p-value is 0.05, meaning that there must be less than a 5% likelihood that the correlation we found here would occur again if there was trully no relationship. In that case we can Reject the null hypothesis $(H_0)$\n",
        "\n",
        "\n",
        "\n"
      ]
    },
    {
      "cell_type": "markdown",
      "source": [
        "### 03.01. p-values factors\n",
        "\n",
        "* Sample size\n",
        "\n",
        "Higuer sample sizes tend to decrease p-values.\n",
        "\n",
        "* DoF (degrees of freedom)\n",
        "\n",
        "Range of possible outcomes (measured as the degrees of freedom) is part of the p-value equation. Higher DoF tends to increase p-values."
      ],
      "metadata": {
        "id": "F51LxYgR_CgE"
      }
    },
    {
      "cell_type": "markdown",
      "source": [
        "### 03.02. Correlation Context"
      ],
      "metadata": {
        "id": "vVnsj9x39pf1"
      }
    },
    {
      "cell_type": "markdown",
      "source": [
        "In the correlation(r) context, this means that a p-value represents the likelihood that future data will demonstratre a correlation(r) = 0.0 even though we just found >0 in the current data set. *The lower the p-value the lower the likelihood that there is no relationship between two variables*"
      ],
      "metadata": {
        "id": "39-eRRaB9tuY"
      }
    }
  ]
}